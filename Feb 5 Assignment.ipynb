{
 "cells": [
  {
   "cell_type": "code",
   "execution_count": 138,
   "id": "055fe7cd",
   "metadata": {},
   "outputs": [],
   "source": [
    "import re"
   ]
  },
  {
   "cell_type": "markdown",
   "id": "e30bdcc7",
   "metadata": {},
   "source": [
    "Question 1"
   ]
  },
  {
   "cell_type": "code",
   "execution_count": 139,
   "id": "28242779",
   "metadata": {},
   "outputs": [],
   "source": [
    "string = 'Python Exercises, PHP exercises.'"
   ]
  },
  {
   "cell_type": "code",
   "execution_count": 140,
   "id": "0b2d4659",
   "metadata": {},
   "outputs": [],
   "source": [
    "x =re.sub(\"[., ]\",':',string)"
   ]
  },
  {
   "cell_type": "code",
   "execution_count": 141,
   "id": "3b5fa6bf",
   "metadata": {},
   "outputs": [
    {
     "name": "stdout",
     "output_type": "stream",
     "text": [
      "Python:Exercises::PHP:exercises:\n"
     ]
    }
   ],
   "source": [
    "print(x)"
   ]
  },
  {
   "cell_type": "markdown",
   "id": "86dca9ed",
   "metadata": {},
   "source": [
    "Question 2"
   ]
  },
  {
   "cell_type": "code",
   "execution_count": 142,
   "id": "286081f0",
   "metadata": {},
   "outputs": [],
   "source": [
    "import pandas as pd\n",
    "import regex as re"
   ]
  },
  {
   "cell_type": "code",
   "execution_count": 143,
   "id": "d6ba9ee8",
   "metadata": {},
   "outputs": [],
   "source": [
    "dictionary ={'SUMMARY':['hello, world!','XXXXX test','123four,five:;six...']}"
   ]
  },
  {
   "cell_type": "code",
   "execution_count": 144,
   "id": "e195602f",
   "metadata": {},
   "outputs": [
    {
     "data": {
      "text/plain": [
       "{'SUMMARY': ['hello, world!', 'XXXXX test', '123four,five:;six...']}"
      ]
     },
     "execution_count": 144,
     "metadata": {},
     "output_type": "execute_result"
    }
   ],
   "source": [
    "dictionary"
   ]
  },
  {
   "cell_type": "code",
   "execution_count": 145,
   "id": "26039ff7",
   "metadata": {},
   "outputs": [],
   "source": [
    "df = pd.DataFrame(dictionary)"
   ]
  },
  {
   "cell_type": "code",
   "execution_count": 146,
   "id": "08c7567b",
   "metadata": {},
   "outputs": [],
   "source": [
    "df['SUMMARY'] = df['SUMMARY'].str.replace('[^a-zA-Z\\s]', '', regex=True)"
   ]
  },
  {
   "cell_type": "code",
   "execution_count": 147,
   "id": "0bfc732a",
   "metadata": {},
   "outputs": [
    {
     "name": "stdout",
     "output_type": "stream",
     "text": [
      "0    hello world\n",
      "1     XXXXX test\n",
      "2    fourfivesix\n",
      "Name: SUMMARY, dtype: object\n"
     ]
    }
   ],
   "source": [
    "print(df['SUMMARY'])"
   ]
  },
  {
   "cell_type": "markdown",
   "id": "dcb02031",
   "metadata": {},
   "source": [
    "Question 3"
   ]
  },
  {
   "cell_type": "code",
   "execution_count": 148,
   "id": "aa38473c",
   "metadata": {},
   "outputs": [],
   "source": [
    "example_str ='MS Dhoni is the best captain that India has ever produced'"
   ]
  },
  {
   "cell_type": "code",
   "execution_count": 149,
   "id": "a04d8b8e",
   "metadata": {},
   "outputs": [],
   "source": [
    "str_pattern = r\"\\b\\w{4,}\\b\""
   ]
  },
  {
   "cell_type": "code",
   "execution_count": 150,
   "id": "a3c8d41a",
   "metadata": {},
   "outputs": [],
   "source": [
    "pattern = re.compile(str_pattern)"
   ]
  },
  {
   "cell_type": "code",
   "execution_count": 151,
   "id": "e7a3cc1b",
   "metadata": {},
   "outputs": [],
   "source": [
    "x = pattern.findall(example_str)"
   ]
  },
  {
   "cell_type": "code",
   "execution_count": 152,
   "id": "0cc88a0c",
   "metadata": {},
   "outputs": [
    {
     "name": "stdout",
     "output_type": "stream",
     "text": [
      "['Dhoni', 'best', 'captain', 'that', 'India', 'ever', 'produced']\n"
     ]
    }
   ],
   "source": [
    "print(x)"
   ]
  },
  {
   "cell_type": "markdown",
   "id": "4ab1495f",
   "metadata": {},
   "source": [
    "Question 4"
   ]
  },
  {
   "cell_type": "code",
   "execution_count": 153,
   "id": "6baabf71",
   "metadata": {},
   "outputs": [],
   "source": [
    "str = 'Virat Kohli is the only player to have an average of 50 in all formats'"
   ]
  },
  {
   "cell_type": "code",
   "execution_count": 154,
   "id": "21e90d23",
   "metadata": {},
   "outputs": [],
   "source": [
    "str_pattern = r\"\\b\\w{3,5}\\b\""
   ]
  },
  {
   "cell_type": "code",
   "execution_count": 155,
   "id": "d3afa545",
   "metadata": {},
   "outputs": [],
   "source": [
    "pattern = re.compile(str_pattern)"
   ]
  },
  {
   "cell_type": "code",
   "execution_count": 156,
   "id": "c61efaa1",
   "metadata": {},
   "outputs": [],
   "source": [
    "x = pattern.findall(str)"
   ]
  },
  {
   "cell_type": "code",
   "execution_count": 157,
   "id": "89f1695e",
   "metadata": {},
   "outputs": [
    {
     "name": "stdout",
     "output_type": "stream",
     "text": [
      "['Virat', 'Kohli', 'the', 'only', 'have', 'all']\n"
     ]
    }
   ],
   "source": [
    "print(x)"
   ]
  },
  {
   "cell_type": "markdown",
   "id": "0e3987a9",
   "metadata": {},
   "source": [
    "Question 5"
   ]
  },
  {
   "cell_type": "code",
   "execution_count": 158,
   "id": "8da1eb99",
   "metadata": {},
   "outputs": [],
   "source": [
    "sample_text = [\"example (.com)\",\"hr@fliprobo (.com)\",\"github (.com)\",\"Hello (Data Science World)\",\"Data (Scientist)\"]"
   ]
  },
  {
   "cell_type": "markdown",
   "id": "46ead4d4",
   "metadata": {},
   "source": [
    "Question 6"
   ]
  },
  {
   "cell_type": "code",
   "execution_count": 570,
   "id": "bd235b94",
   "metadata": {},
   "outputs": [],
   "source": [
    "with open('C:\\\\Users\\\\LUCIFER\\\\Downloads\\\\Sample.txt', 'r') as file:\n",
    "  text = file.read()"
   ]
  },
  {
   "cell_type": "code",
   "execution_count": 571,
   "id": "308c75b9",
   "metadata": {},
   "outputs": [],
   "source": [
    "new_text = re.sub(r\"\\s*\\([^)]*\\)\", \"\", text)"
   ]
  },
  {
   "cell_type": "code",
   "execution_count": 572,
   "id": "aaea28b9",
   "metadata": {},
   "outputs": [
    {
     "name": "stdout",
     "output_type": "stream",
     "text": [
      "[\"example\",\"hr@fliprobo\",\"github\",\"Hello\",\"Data\"]\n"
     ]
    }
   ],
   "source": [
    "print(new_text)"
   ]
  },
  {
   "cell_type": "markdown",
   "id": "9b901c46",
   "metadata": {},
   "source": [
    "Question 7"
   ]
  },
  {
   "cell_type": "code",
   "execution_count": 360,
   "id": "abdae3ab",
   "metadata": {},
   "outputs": [],
   "source": [
    "sample_text=\"ImportanceOfRegularExpressionsInPython\""
   ]
  },
  {
   "cell_type": "code",
   "execution_count": 361,
   "id": "67efe020",
   "metadata": {},
   "outputs": [],
   "source": [
    "x = re.findall(\"[A-Z][^A-Z]*\",sample_text)"
   ]
  },
  {
   "cell_type": "code",
   "execution_count": 362,
   "id": "e8b58dc4",
   "metadata": {},
   "outputs": [
    {
     "name": "stdout",
     "output_type": "stream",
     "text": [
      "['Importance', 'Of', 'Regular', 'Expressions', 'In', 'Python']\n"
     ]
    }
   ],
   "source": [
    "print(x)"
   ]
  },
  {
   "cell_type": "markdown",
   "id": "6fbd90ff",
   "metadata": {},
   "source": [
    "Question 8"
   ]
  },
  {
   "cell_type": "code",
   "execution_count": 463,
   "id": "7109f130",
   "metadata": {},
   "outputs": [],
   "source": [
    "sample_text = \"RegularExpression1IsAn2ImportantTopic3InPython\""
   ]
  },
  {
   "cell_type": "code",
   "execution_count": 471,
   "id": "48590343",
   "metadata": {},
   "outputs": [],
   "source": [
    "pattern = r'(\\d+)([A-Za-z]+)'\n",
    "x = re.sub(pattern, r\" \\1\\2\", sample_text)"
   ]
  },
  {
   "cell_type": "code",
   "execution_count": 472,
   "id": "9be2b443",
   "metadata": {},
   "outputs": [
    {
     "name": "stdout",
     "output_type": "stream",
     "text": [
      "RegularExpression 1IsAn 2ImportantTopic 3InPython\n"
     ]
    }
   ],
   "source": [
    "print(x)"
   ]
  },
  {
   "cell_type": "markdown",
   "id": "a81bb7d7",
   "metadata": {},
   "source": [
    "Question 9"
   ]
  },
  {
   "cell_type": "code",
   "execution_count": 445,
   "id": "69574ba0",
   "metadata": {},
   "outputs": [],
   "source": [
    "sample_text = \"RegularExpression1IsAn2ImportantTopic3InPython\""
   ]
  },
  {
   "cell_type": "code",
   "execution_count": 454,
   "id": "aab29698",
   "metadata": {},
   "outputs": [],
   "source": [
    "pattern = r'(\\d+)([A-Za-z]+)'\n",
    "x = re.sub(pattern, r\" \\1 \\2\", sample_text)"
   ]
  },
  {
   "cell_type": "code",
   "execution_count": 455,
   "id": "9acdf31f",
   "metadata": {},
   "outputs": [
    {
     "name": "stdout",
     "output_type": "stream",
     "text": [
      "RegularExpression 1 IsAn 2 ImportantTopic 3 InPython\n"
     ]
    }
   ],
   "source": [
    "print(x)"
   ]
  },
  {
   "cell_type": "markdown",
   "id": "616e9623",
   "metadata": {},
   "source": [
    "Question 10"
   ]
  },
  {
   "cell_type": "code",
   "execution_count": 473,
   "id": "39173460",
   "metadata": {},
   "outputs": [],
   "source": [
    "url = \"https://raw.githubusercontent.com/dsrscientist/DSData/master/happiness_score_dataset.csv\""
   ]
  },
  {
   "cell_type": "code",
   "execution_count": 485,
   "id": "5191fdc7",
   "metadata": {},
   "outputs": [],
   "source": [
    "d = pd.read_csv(url)"
   ]
  },
  {
   "cell_type": "code",
   "execution_count": 486,
   "id": "0fff6146",
   "metadata": {},
   "outputs": [],
   "source": [
    "df = pd.DataFrame(d)"
   ]
  },
  {
   "cell_type": "code",
   "execution_count": 488,
   "id": "7c7f53d9",
   "metadata": {},
   "outputs": [],
   "source": [
    "df['first_five_letters'] = df['Country'].apply(lambda x: x[:6])"
   ]
  },
  {
   "cell_type": "code",
   "execution_count": 489,
   "id": "af67bc8c",
   "metadata": {},
   "outputs": [
    {
     "data": {
      "text/html": [
       "<div>\n",
       "<style scoped>\n",
       "    .dataframe tbody tr th:only-of-type {\n",
       "        vertical-align: middle;\n",
       "    }\n",
       "\n",
       "    .dataframe tbody tr th {\n",
       "        vertical-align: top;\n",
       "    }\n",
       "\n",
       "    .dataframe thead th {\n",
       "        text-align: right;\n",
       "    }\n",
       "</style>\n",
       "<table border=\"1\" class=\"dataframe\">\n",
       "  <thead>\n",
       "    <tr style=\"text-align: right;\">\n",
       "      <th></th>\n",
       "      <th>Country</th>\n",
       "      <th>Region</th>\n",
       "      <th>Happiness Rank</th>\n",
       "      <th>Happiness Score</th>\n",
       "      <th>Standard Error</th>\n",
       "      <th>Economy (GDP per Capita)</th>\n",
       "      <th>Family</th>\n",
       "      <th>Health (Life Expectancy)</th>\n",
       "      <th>Freedom</th>\n",
       "      <th>Trust (Government Corruption)</th>\n",
       "      <th>Generosity</th>\n",
       "      <th>Dystopia Residual</th>\n",
       "      <th>first_five_letters</th>\n",
       "    </tr>\n",
       "  </thead>\n",
       "  <tbody>\n",
       "    <tr>\n",
       "      <th>0</th>\n",
       "      <td>Switzerland</td>\n",
       "      <td>Western Europe</td>\n",
       "      <td>1</td>\n",
       "      <td>7.587</td>\n",
       "      <td>0.03411</td>\n",
       "      <td>1.39651</td>\n",
       "      <td>1.34951</td>\n",
       "      <td>0.94143</td>\n",
       "      <td>0.66557</td>\n",
       "      <td>0.41978</td>\n",
       "      <td>0.29678</td>\n",
       "      <td>2.51738</td>\n",
       "      <td>Switze</td>\n",
       "    </tr>\n",
       "    <tr>\n",
       "      <th>1</th>\n",
       "      <td>Iceland</td>\n",
       "      <td>Western Europe</td>\n",
       "      <td>2</td>\n",
       "      <td>7.561</td>\n",
       "      <td>0.04884</td>\n",
       "      <td>1.30232</td>\n",
       "      <td>1.40223</td>\n",
       "      <td>0.94784</td>\n",
       "      <td>0.62877</td>\n",
       "      <td>0.14145</td>\n",
       "      <td>0.43630</td>\n",
       "      <td>2.70201</td>\n",
       "      <td>Icelan</td>\n",
       "    </tr>\n",
       "    <tr>\n",
       "      <th>2</th>\n",
       "      <td>Denmark</td>\n",
       "      <td>Western Europe</td>\n",
       "      <td>3</td>\n",
       "      <td>7.527</td>\n",
       "      <td>0.03328</td>\n",
       "      <td>1.32548</td>\n",
       "      <td>1.36058</td>\n",
       "      <td>0.87464</td>\n",
       "      <td>0.64938</td>\n",
       "      <td>0.48357</td>\n",
       "      <td>0.34139</td>\n",
       "      <td>2.49204</td>\n",
       "      <td>Denmar</td>\n",
       "    </tr>\n",
       "    <tr>\n",
       "      <th>3</th>\n",
       "      <td>Norway</td>\n",
       "      <td>Western Europe</td>\n",
       "      <td>4</td>\n",
       "      <td>7.522</td>\n",
       "      <td>0.03880</td>\n",
       "      <td>1.45900</td>\n",
       "      <td>1.33095</td>\n",
       "      <td>0.88521</td>\n",
       "      <td>0.66973</td>\n",
       "      <td>0.36503</td>\n",
       "      <td>0.34699</td>\n",
       "      <td>2.46531</td>\n",
       "      <td>Norway</td>\n",
       "    </tr>\n",
       "    <tr>\n",
       "      <th>4</th>\n",
       "      <td>Canada</td>\n",
       "      <td>North America</td>\n",
       "      <td>5</td>\n",
       "      <td>7.427</td>\n",
       "      <td>0.03553</td>\n",
       "      <td>1.32629</td>\n",
       "      <td>1.32261</td>\n",
       "      <td>0.90563</td>\n",
       "      <td>0.63297</td>\n",
       "      <td>0.32957</td>\n",
       "      <td>0.45811</td>\n",
       "      <td>2.45176</td>\n",
       "      <td>Canada</td>\n",
       "    </tr>\n",
       "    <tr>\n",
       "      <th>...</th>\n",
       "      <td>...</td>\n",
       "      <td>...</td>\n",
       "      <td>...</td>\n",
       "      <td>...</td>\n",
       "      <td>...</td>\n",
       "      <td>...</td>\n",
       "      <td>...</td>\n",
       "      <td>...</td>\n",
       "      <td>...</td>\n",
       "      <td>...</td>\n",
       "      <td>...</td>\n",
       "      <td>...</td>\n",
       "      <td>...</td>\n",
       "    </tr>\n",
       "    <tr>\n",
       "      <th>153</th>\n",
       "      <td>Rwanda</td>\n",
       "      <td>Sub-Saharan Africa</td>\n",
       "      <td>154</td>\n",
       "      <td>3.465</td>\n",
       "      <td>0.03464</td>\n",
       "      <td>0.22208</td>\n",
       "      <td>0.77370</td>\n",
       "      <td>0.42864</td>\n",
       "      <td>0.59201</td>\n",
       "      <td>0.55191</td>\n",
       "      <td>0.22628</td>\n",
       "      <td>0.67042</td>\n",
       "      <td>Rwanda</td>\n",
       "    </tr>\n",
       "    <tr>\n",
       "      <th>154</th>\n",
       "      <td>Benin</td>\n",
       "      <td>Sub-Saharan Africa</td>\n",
       "      <td>155</td>\n",
       "      <td>3.340</td>\n",
       "      <td>0.03656</td>\n",
       "      <td>0.28665</td>\n",
       "      <td>0.35386</td>\n",
       "      <td>0.31910</td>\n",
       "      <td>0.48450</td>\n",
       "      <td>0.08010</td>\n",
       "      <td>0.18260</td>\n",
       "      <td>1.63328</td>\n",
       "      <td>Benin</td>\n",
       "    </tr>\n",
       "    <tr>\n",
       "      <th>155</th>\n",
       "      <td>Syria</td>\n",
       "      <td>Middle East and Northern Africa</td>\n",
       "      <td>156</td>\n",
       "      <td>3.006</td>\n",
       "      <td>0.05015</td>\n",
       "      <td>0.66320</td>\n",
       "      <td>0.47489</td>\n",
       "      <td>0.72193</td>\n",
       "      <td>0.15684</td>\n",
       "      <td>0.18906</td>\n",
       "      <td>0.47179</td>\n",
       "      <td>0.32858</td>\n",
       "      <td>Syria</td>\n",
       "    </tr>\n",
       "    <tr>\n",
       "      <th>156</th>\n",
       "      <td>Burundi</td>\n",
       "      <td>Sub-Saharan Africa</td>\n",
       "      <td>157</td>\n",
       "      <td>2.905</td>\n",
       "      <td>0.08658</td>\n",
       "      <td>0.01530</td>\n",
       "      <td>0.41587</td>\n",
       "      <td>0.22396</td>\n",
       "      <td>0.11850</td>\n",
       "      <td>0.10062</td>\n",
       "      <td>0.19727</td>\n",
       "      <td>1.83302</td>\n",
       "      <td>Burund</td>\n",
       "    </tr>\n",
       "    <tr>\n",
       "      <th>157</th>\n",
       "      <td>Togo</td>\n",
       "      <td>Sub-Saharan Africa</td>\n",
       "      <td>158</td>\n",
       "      <td>2.839</td>\n",
       "      <td>0.06727</td>\n",
       "      <td>0.20868</td>\n",
       "      <td>0.13995</td>\n",
       "      <td>0.28443</td>\n",
       "      <td>0.36453</td>\n",
       "      <td>0.10731</td>\n",
       "      <td>0.16681</td>\n",
       "      <td>1.56726</td>\n",
       "      <td>Togo</td>\n",
       "    </tr>\n",
       "  </tbody>\n",
       "</table>\n",
       "<p>158 rows × 13 columns</p>\n",
       "</div>"
      ],
      "text/plain": [
       "         Country                           Region  Happiness Rank  \\\n",
       "0    Switzerland                   Western Europe               1   \n",
       "1        Iceland                   Western Europe               2   \n",
       "2        Denmark                   Western Europe               3   \n",
       "3         Norway                   Western Europe               4   \n",
       "4         Canada                    North America               5   \n",
       "..           ...                              ...             ...   \n",
       "153       Rwanda               Sub-Saharan Africa             154   \n",
       "154        Benin               Sub-Saharan Africa             155   \n",
       "155        Syria  Middle East and Northern Africa             156   \n",
       "156      Burundi               Sub-Saharan Africa             157   \n",
       "157         Togo               Sub-Saharan Africa             158   \n",
       "\n",
       "     Happiness Score  Standard Error  Economy (GDP per Capita)   Family  \\\n",
       "0              7.587         0.03411                   1.39651  1.34951   \n",
       "1              7.561         0.04884                   1.30232  1.40223   \n",
       "2              7.527         0.03328                   1.32548  1.36058   \n",
       "3              7.522         0.03880                   1.45900  1.33095   \n",
       "4              7.427         0.03553                   1.32629  1.32261   \n",
       "..               ...             ...                       ...      ...   \n",
       "153            3.465         0.03464                   0.22208  0.77370   \n",
       "154            3.340         0.03656                   0.28665  0.35386   \n",
       "155            3.006         0.05015                   0.66320  0.47489   \n",
       "156            2.905         0.08658                   0.01530  0.41587   \n",
       "157            2.839         0.06727                   0.20868  0.13995   \n",
       "\n",
       "     Health (Life Expectancy)  Freedom  Trust (Government Corruption)  \\\n",
       "0                     0.94143  0.66557                        0.41978   \n",
       "1                     0.94784  0.62877                        0.14145   \n",
       "2                     0.87464  0.64938                        0.48357   \n",
       "3                     0.88521  0.66973                        0.36503   \n",
       "4                     0.90563  0.63297                        0.32957   \n",
       "..                        ...      ...                            ...   \n",
       "153                   0.42864  0.59201                        0.55191   \n",
       "154                   0.31910  0.48450                        0.08010   \n",
       "155                   0.72193  0.15684                        0.18906   \n",
       "156                   0.22396  0.11850                        0.10062   \n",
       "157                   0.28443  0.36453                        0.10731   \n",
       "\n",
       "     Generosity  Dystopia Residual first_five_letters  \n",
       "0       0.29678            2.51738             Switze  \n",
       "1       0.43630            2.70201             Icelan  \n",
       "2       0.34139            2.49204             Denmar  \n",
       "3       0.34699            2.46531             Norway  \n",
       "4       0.45811            2.45176             Canada  \n",
       "..          ...                ...                ...  \n",
       "153     0.22628            0.67042             Rwanda  \n",
       "154     0.18260            1.63328              Benin  \n",
       "155     0.47179            0.32858              Syria  \n",
       "156     0.19727            1.83302             Burund  \n",
       "157     0.16681            1.56726               Togo  \n",
       "\n",
       "[158 rows x 13 columns]"
      ]
     },
     "execution_count": 489,
     "metadata": {},
     "output_type": "execute_result"
    }
   ],
   "source": [
    "df"
   ]
  },
  {
   "cell_type": "markdown",
   "id": "5affa247",
   "metadata": {},
   "source": [
    "Question 11"
   ]
  },
  {
   "cell_type": "code",
   "execution_count": 492,
   "id": "54670b47",
   "metadata": {},
   "outputs": [],
   "source": [
    "String = \"INDIA has the largest_population in the world summing to the amount_of 140.76 CRORES\""
   ]
  },
  {
   "cell_type": "code",
   "execution_count": 495,
   "id": "42c4c3d3",
   "metadata": {},
   "outputs": [],
   "source": [
    "x = re.findall(\"\\w+\",String)"
   ]
  },
  {
   "cell_type": "code",
   "execution_count": 496,
   "id": "4680f778",
   "metadata": {},
   "outputs": [
    {
     "name": "stdout",
     "output_type": "stream",
     "text": [
      "['INDIA', 'has', 'the', 'largest_population', 'in', 'the', 'world', 'summing', 'to', 'the', 'amount_of', '140', '76', 'CRORES']\n"
     ]
    }
   ],
   "source": [
    "print(x)"
   ]
  },
  {
   "cell_type": "markdown",
   "id": "0b9d6808",
   "metadata": {},
   "source": [
    "Question 12"
   ]
  },
  {
   "cell_type": "code",
   "execution_count": 501,
   "id": "7100f84d",
   "metadata": {},
   "outputs": [],
   "source": [
    "string = \"456 Hello 123 World\""
   ]
  },
  {
   "cell_type": "code",
   "execution_count": 507,
   "id": "c8abe77d",
   "metadata": {},
   "outputs": [],
   "source": [
    "number = \"123\""
   ]
  },
  {
   "cell_type": "code",
   "execution_count": 508,
   "id": "4a6d6fba",
   "metadata": {},
   "outputs": [],
   "source": [
    "x = re.match(number,string)"
   ]
  },
  {
   "cell_type": "code",
   "execution_count": 509,
   "id": "0224b5f4",
   "metadata": {},
   "outputs": [
    {
     "name": "stdout",
     "output_type": "stream",
     "text": [
      "None\n"
     ]
    }
   ],
   "source": [
    "print(x)"
   ]
  },
  {
   "cell_type": "code",
   "execution_count": 587,
   "id": "62554435",
   "metadata": {},
   "outputs": [],
   "source": [
    "number = \"456\""
   ]
  },
  {
   "cell_type": "code",
   "execution_count": 588,
   "id": "3e08ddc6",
   "metadata": {},
   "outputs": [],
   "source": [
    "x = re.match(number,string)"
   ]
  },
  {
   "cell_type": "code",
   "execution_count": 589,
   "id": "a087fc47",
   "metadata": {},
   "outputs": [
    {
     "name": "stdout",
     "output_type": "stream",
     "text": [
      "<regex.Match object; span=(0, 3), match='456'>\n"
     ]
    }
   ],
   "source": [
    "print(x)"
   ]
  },
  {
   "cell_type": "markdown",
   "id": "eee6ae0a",
   "metadata": {},
   "source": [
    "Question 13"
   ]
  },
  {
   "cell_type": "code",
   "execution_count": 590,
   "id": "65ffaabd",
   "metadata": {},
   "outputs": [],
   "source": [
    "Ip = \"192.0000168.0001.1\""
   ]
  },
  {
   "cell_type": "code",
   "execution_count": 591,
   "id": "63fca2db",
   "metadata": {},
   "outputs": [],
   "source": [
    "x = re.sub(\"\\.[0]*\",\".\",Ip)"
   ]
  },
  {
   "cell_type": "code",
   "execution_count": 592,
   "id": "956b37fe",
   "metadata": {},
   "outputs": [
    {
     "name": "stdout",
     "output_type": "stream",
     "text": [
      "192.168.1.1\n"
     ]
    }
   ],
   "source": [
    "print(x)"
   ]
  },
  {
   "cell_type": "markdown",
   "id": "0effd830",
   "metadata": {},
   "source": [
    "Question 14"
   ]
  },
  {
   "cell_type": "code",
   "execution_count": 593,
   "id": "e05eb517",
   "metadata": {},
   "outputs": [],
   "source": [
    "with open('C:\\\\Users\\\\LUCIFER\\\\Downloads\\\\Sample1.txt', 'r') as file:\n",
    "  text = file.read()"
   ]
  },
  {
   "cell_type": "code",
   "execution_count": 594,
   "id": "167c7cd6",
   "metadata": {},
   "outputs": [
    {
     "data": {
      "text/plain": [
       "'On August 15th 1947 that India was declared independent from British colonialism, and the reins of control were handed over to the leaders of the Country.'"
      ]
     },
     "execution_count": 594,
     "metadata": {},
     "output_type": "execute_result"
    }
   ],
   "source": [
    "text"
   ]
  },
  {
   "cell_type": "code",
   "execution_count": 595,
   "id": "f0cd0a8e",
   "metadata": {},
   "outputs": [],
   "source": [
    "pattern = r\"\\b([A-Z][a-z]+ \\d{1,2}(?:st|nd|rd|th)? \\d{4})\\b\""
   ]
  },
  {
   "cell_type": "code",
   "execution_count": 596,
   "id": "4f6f938c",
   "metadata": {},
   "outputs": [],
   "source": [
    "new_text = re.findall(pattern, text)"
   ]
  },
  {
   "cell_type": "code",
   "execution_count": 586,
   "id": "390d3c70",
   "metadata": {},
   "outputs": [
    {
     "name": "stdout",
     "output_type": "stream",
     "text": [
      "['August 15th 1947']\n"
     ]
    }
   ],
   "source": [
    "print(new_text)"
   ]
  },
  {
   "cell_type": "markdown",
   "id": "57293a7a",
   "metadata": {},
   "source": [
    "Question 15"
   ]
  },
  {
   "cell_type": "code",
   "execution_count": 619,
   "id": "06733b35",
   "metadata": {},
   "outputs": [],
   "source": [
    "Sample_text = 'The quick brown fox jumps over the lazy dog.'"
   ]
  },
  {
   "cell_type": "code",
   "execution_count": 624,
   "id": "c5c9d4a1",
   "metadata": {},
   "outputs": [],
   "source": [
    "pattern = ['fox','dog','horse']"
   ]
  },
  {
   "cell_type": "code",
   "execution_count": 625,
   "id": "e687d83d",
   "metadata": {},
   "outputs": [
    {
     "name": "stdout",
     "output_type": "stream",
     "text": [
      "Searching for \"fox\" in \"The quick brown fox jumps over the lazy dog.\" ->\n",
      "Matched!\n",
      "Searching for \"dog\" in \"The quick brown fox jumps over the lazy dog.\" ->\n",
      "Matched!\n",
      "Searching for \"horse\" in \"The quick brown fox jumps over the lazy dog.\" ->\n",
      "Not Matched!\n"
     ]
    }
   ],
   "source": [
    "for pattern in pattern:\n",
    "    print('Searching for \"%s\" in \"%s\" ->' % (pattern, Sample_text),)\n",
    "    if re.search(pattern,  Sample_text):\n",
    "        print('Matched!')\n",
    "    else:\n",
    "        print('Not Matched!')"
   ]
  },
  {
   "cell_type": "markdown",
   "id": "662b50b8",
   "metadata": {},
   "source": [
    "Question 16"
   ]
  },
  {
   "cell_type": "code",
   "execution_count": 626,
   "id": "562de05a",
   "metadata": {},
   "outputs": [],
   "source": [
    "text = 'The quick brown fox jumps over the lazy dog.'"
   ]
  },
  {
   "cell_type": "code",
   "execution_count": 627,
   "id": "bad1d389",
   "metadata": {},
   "outputs": [],
   "source": [
    "pattern = 'fox'"
   ]
  },
  {
   "cell_type": "code",
   "execution_count": 631,
   "id": "f6b0f30c",
   "metadata": {},
   "outputs": [],
   "source": [
    "match = re.search(pattern, text)\n",
    "a = match.start()\n",
    "b = match.end()"
   ]
  },
  {
   "cell_type": "code",
   "execution_count": 632,
   "id": "32479962",
   "metadata": {},
   "outputs": [
    {
     "name": "stdout",
     "output_type": "stream",
     "text": [
      "Found \"fox\" in \"The quick brown fox jumps over the lazy dog.\" from 16 to 19 \n"
     ]
    }
   ],
   "source": [
    "print('Found \"%s\" in \"%s\" from %d to %d ' % \\\n",
    "    (match.re.pattern, match.string, a, b))"
   ]
  },
  {
   "cell_type": "markdown",
   "id": "93bf5c89",
   "metadata": {},
   "source": [
    "Question 17"
   ]
  },
  {
   "cell_type": "code",
   "execution_count": 633,
   "id": "0c1599b0",
   "metadata": {},
   "outputs": [],
   "source": [
    "text = 'Python exercises, PHP exercises, C# exercises'"
   ]
  },
  {
   "cell_type": "code",
   "execution_count": 634,
   "id": "6874d6d7",
   "metadata": {},
   "outputs": [],
   "source": [
    "pattern = 'exercises'"
   ]
  },
  {
   "cell_type": "code",
   "execution_count": 635,
   "id": "9c2b340f",
   "metadata": {},
   "outputs": [],
   "source": [
    "x = re.findall(pattern, text)"
   ]
  },
  {
   "cell_type": "code",
   "execution_count": 636,
   "id": "48755ca8",
   "metadata": {},
   "outputs": [
    {
     "name": "stdout",
     "output_type": "stream",
     "text": [
      "['exercises', 'exercises', 'exercises']\n"
     ]
    }
   ],
   "source": [
    "print(x)"
   ]
  },
  {
   "cell_type": "markdown",
   "id": "eacbb294",
   "metadata": {},
   "source": [
    "Question 18"
   ]
  },
  {
   "cell_type": "code",
   "execution_count": 651,
   "id": "06447194",
   "metadata": {},
   "outputs": [],
   "source": [
    "text = 'Python exercises, PHP exercises, C# exercises'"
   ]
  },
  {
   "cell_type": "code",
   "execution_count": 652,
   "id": "b5fee366",
   "metadata": {},
   "outputs": [],
   "source": [
    "pattern = 'exercises'"
   ]
  },
  {
   "cell_type": "code",
   "execution_count": 653,
   "id": "0956f4d7",
   "metadata": {},
   "outputs": [
    {
     "name": "stdout",
     "output_type": "stream",
     "text": [
      "Found \"exercises\" at 7:16\n",
      "Found \"exercises\" at 22:31\n",
      "Found \"exercises\" at 36:45\n"
     ]
    }
   ],
   "source": [
    "for match in re.finditer(pattern, text):\n",
    "    a = match.start()\n",
    "    b = match.end()\n",
    "    print('Found \"%s\" at %d:%d' % (text[a:b], a, b))"
   ]
  },
  {
   "cell_type": "markdown",
   "id": "83e9d094",
   "metadata": {},
   "source": [
    "Question 19"
   ]
  },
  {
   "cell_type": "code",
   "execution_count": 662,
   "id": "c77bc96f",
   "metadata": {},
   "outputs": [
    {
     "name": "stdout",
     "output_type": "stream",
     "text": [
      "2024-02-04\n",
      "04-02-2024\n"
     ]
    }
   ],
   "source": [
    "import datetime\n",
    "\n",
    "date = datetime.date.today()\n",
    "print(date)\n",
    "\n",
    "newdate = date.strftime(\"%d-%m-%Y\")\n",
    "print(newdate)"
   ]
  },
  {
   "cell_type": "markdown",
   "id": "f4034671",
   "metadata": {},
   "source": [
    "Question 20"
   ]
  },
  {
   "cell_type": "code",
   "execution_count": 772,
   "id": "4bea6f23",
   "metadata": {},
   "outputs": [],
   "source": [
    "sample_Text = \"01.12 0132.123 2.31875 145.8 3.01 27.25 0.25\""
   ]
  },
  {
   "cell_type": "code",
   "execution_count": 781,
   "id": "079c8e56",
   "metadata": {},
   "outputs": [],
   "source": [
    "str_pattern = '\\d+.\\d{1,2}'"
   ]
  },
  {
   "cell_type": "code",
   "execution_count": 782,
   "id": "d2265aa5",
   "metadata": {},
   "outputs": [],
   "source": [
    "pattern = re.compile(str_pattern)"
   ]
  },
  {
   "cell_type": "code",
   "execution_count": 783,
   "id": "fdfa80af",
   "metadata": {},
   "outputs": [],
   "source": [
    "x = re.findall(pattern,sample_Text)"
   ]
  },
  {
   "cell_type": "code",
   "execution_count": 784,
   "id": "296288ec",
   "metadata": {},
   "outputs": [
    {
     "name": "stdout",
     "output_type": "stream",
     "text": [
      "['01.12', '0132.12', '3 2', '31875 14', '5.8', '3.01', '27.25', '0.25']\n"
     ]
    }
   ],
   "source": [
    "print(x)"
   ]
  },
  {
   "cell_type": "code",
   "execution_count": null,
   "id": "55d5540a",
   "metadata": {},
   "outputs": [],
   "source": []
  }
 ],
 "metadata": {
  "kernelspec": {
   "display_name": "Python 3 (ipykernel)",
   "language": "python",
   "name": "python3"
  },
  "language_info": {
   "codemirror_mode": {
    "name": "ipython",
    "version": 3
   },
   "file_extension": ".py",
   "mimetype": "text/x-python",
   "name": "python",
   "nbconvert_exporter": "python",
   "pygments_lexer": "ipython3",
   "version": "3.11.5"
  }
 },
 "nbformat": 4,
 "nbformat_minor": 5
}
